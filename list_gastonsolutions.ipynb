{
 "cells": [
  {
   "cell_type": "markdown",
   "metadata": {},
   "source": [
    "[![Open In Colab](https://colab.research.google.com/assets/colab-badge.svg)](https://colab.research.google.com/github/nuitrcs/NextStepsInPython/blob/master/listComprehension/list.ipynb)"
   ]
  },
  {
   "cell_type": "markdown",
   "metadata": {},
   "source": [
    "#### <br>*If you are using Google Colab, first run the code cell below. You can run a cell by clicking in the cell and clicking on the arrow that appears on the left side of the cell. DO NOT run this cell if you are not using Google Colab.*"
   ]
  },
  {
   "cell_type": "code",
   "execution_count": 1,
   "metadata": {},
   "outputs": [
    {
     "name": "stdout",
     "output_type": "stream",
     "text": [
      "/bin/sh: wget: command not found\n",
      "/bin/sh: wget: command not found\n",
      "/bin/sh: wget: command not found\n"
     ]
    }
   ],
   "source": [
    "!wget https://raw.githubusercontent.com/aGitHasNoName/listComprehension/main/genelengths.txt\n",
    "!wget https://raw.githubusercontent.com/aGitHasNoName/listComprehension/main/genes.txt\n",
    "!wget https://github.com/aGitHasNoName/listComprehension/blob/main/syntax.png"
   ]
  },
  {
   "cell_type": "markdown",
   "metadata": {},
   "source": [
    "# <br><br>List comprehension"
   ]
  },
  {
   "cell_type": "markdown",
   "metadata": {},
   "source": [
    "Notebook contents:\n",
    "<br>Part One - Introduction\n",
    "<br>Part Two - 7 uses of List Comprehensions with exercises\n",
    "<br>Part Three - Dictionary Comprehensions"
   ]
  },
  {
   "cell_type": "markdown",
   "metadata": {},
   "source": [
    "## Part One - Introduction"
   ]
  },
  {
   "cell_type": "markdown",
   "metadata": {},
   "source": [
    "#### Review: What is a list?"
   ]
  },
  {
   "cell_type": "markdown",
   "metadata": {},
   "source": [
    "- A collection of objects\n",
    "- The objects in a list are stored in order\n",
    "- Designated by square brackets\n",
    "- Objects are separated by commas\n",
    "- Great for looping through\n",
    "- One of the most commonly used objects in Python"
   ]
  },
  {
   "cell_type": "code",
   "execution_count": 2,
   "metadata": {},
   "outputs": [],
   "source": [
    "#A sample Python list of food-themed video games\n",
    "food_games = [\"BurgerTime\", \"Food Fight\", \"Pac-Man\", \"Order Up!\", \n",
    "              \"Cooking Mama\", \"Kool-Aid Man\", \"Pizza Tycoon\"]"
   ]
  },
  {
   "cell_type": "markdown",
   "metadata": {},
   "source": [
    "*If you are new to Jupyter notebooks, each gray cell is a piece of code. To run the code, click inside the gray cell and either click the triangle button up top, or press shift+return (or shift+enter) on your keyboard. If you are using Google Colab, shift+return should also work.*"
   ]
  },
  {
   "cell_type": "markdown",
   "metadata": {},
   "source": [
    "#### <br>What is a list comprehension?"
   ]
  },
  {
   "cell_type": "markdown",
   "metadata": {},
   "source": [
    "A list comprehension is a way to make a new list and add certain items to that list in one line of code.\n",
    "<br><br>A list comprehension replaces the code to make an empty list and use a *for loop* to append items onto the empty list.\n",
    "<br><br>If you're still confused about what exactly it is, don't worry, we'll get to some examples soon."
   ]
  },
  {
   "cell_type": "markdown",
   "metadata": {},
   "source": [
    "#### <br>Why use a list comprehension?"
   ]
  },
  {
   "cell_type": "markdown",
   "metadata": {},
   "source": [
    "- Faster to type\n",
    "- Neater - turns something big and clunky into something straightforward\n",
    "- Faster to run than writing a for loop"
   ]
  },
  {
   "cell_type": "markdown",
   "metadata": {},
   "source": [
    "#### <br>When should you use a list comprehension?"
   ]
  },
  {
   "cell_type": "markdown",
   "metadata": {},
   "source": [
    "- If you are appending to an empty list using a for loop\n",
    "- AND, the list is the only output of your for loop"
   ]
  },
  {
   "cell_type": "markdown",
   "metadata": {},
   "source": [
    "#### <br>How to write a list comprehension"
   ]
  },
  {
   "cell_type": "markdown",
   "metadata": {},
   "source": [
    "When it comes to making lists, a list comprehension and a *for loop* are just two ways of saying the same thing."
   ]
  },
  {
   "cell_type": "markdown",
   "metadata": {},
   "source": [
    "Let's say you're going to the grocery store with a list of items you want to buy, but it is March 2020, so the store is missing a lot of items on your list. You could phrase your sentence in either of these two ways:\n",
    "1. For every item on the shopping list, if the item is available at the store, I will add the item to my cart.\n",
    "2. I will add the item to my cart for every item on the shopping list, if the item is available in the store.\n"
   ]
  },
  {
   "cell_type": "markdown",
   "metadata": {},
   "source": [
    "**Now let's write the same scenario in Python code:**"
   ]
  },
  {
   "cell_type": "markdown",
   "metadata": {},
   "source": [
    "First, we'll save our shopping list."
   ]
  },
  {
   "cell_type": "code",
   "execution_count": 3,
   "metadata": {},
   "outputs": [],
   "source": [
    "shop_list = [\"oranges\", \"bread\", \"frozen spinach\", \"ice cream\", \"toilet paper\"]"
   ]
  },
  {
   "cell_type": "markdown",
   "metadata": {},
   "source": [
    "Next, we'll save the list of items available at the store."
   ]
  },
  {
   "cell_type": "code",
   "execution_count": 4,
   "metadata": {},
   "outputs": [],
   "source": [
    "store_list = [\"oranges\", \"milk\", \"bar soap\", \"pears\", \"canned artichokes\", \n",
    "              \"frozen spinach\", \"frozen burrito\", \"ice cream\", \"peanuts\"]"
   ]
  },
  {
   "cell_type": "markdown",
   "metadata": {},
   "source": [
    "### <br>Exercise 0"
   ]
  },
  {
   "cell_type": "markdown",
   "metadata": {},
   "source": [
    "Forget about list comprehensions for a minute. Using what you already know, write Python code to make a new list that only includes the items in `shop_list` that are also in `store_list`."
   ]
  },
  {
   "cell_type": "code",
   "execution_count": 8,
   "metadata": {},
   "outputs": [],
   "source": [
    "buyed_list = []\n",
    "for j in shop_list:\n",
    "    if j in store_list:\n",
    "        buyed_list.append(j)"
   ]
  },
  {
   "cell_type": "code",
   "execution_count": 9,
   "metadata": {},
   "outputs": [
    {
     "data": {
      "text/plain": [
       "['oranges', 'frozen spinach', 'ice cream']"
      ]
     },
     "execution_count": 9,
     "metadata": {},
     "output_type": "execute_result"
    }
   ],
   "source": [
    "buyed_list"
   ]
  },
  {
   "cell_type": "markdown",
   "metadata": {},
   "source": [
    "<br>*<br>*<br>*<br>*<br>*<br>*"
   ]
  },
  {
   "cell_type": "markdown",
   "metadata": {},
   "source": [
    "The code you wrote might look something like this:"
   ]
  },
  {
   "cell_type": "markdown",
   "metadata": {},
   "source": [
    "**for loop solution**"
   ]
  },
  {
   "cell_type": "code",
   "execution_count": null,
   "metadata": {},
   "outputs": [],
   "source": [
    "my_cart = []\n",
    "for item in shop_list:\n",
    "    if item in store_list:\n",
    "        my_cart.append(item)\n",
    "print(my_cart)"
   ]
  },
  {
   "cell_type": "markdown",
   "metadata": {},
   "source": [
    "<br>To make this code faster to type, one thing we can change is the length of the temporary variable that gets created in our *for loop*. `i` is a very commonly used name for a variable that is only used inside a *for loop*."
   ]
  },
  {
   "cell_type": "markdown",
   "metadata": {},
   "source": [
    "**for loop solution**"
   ]
  },
  {
   "cell_type": "code",
   "execution_count": 10,
   "metadata": {},
   "outputs": [
    {
     "name": "stdout",
     "output_type": "stream",
     "text": [
      "['oranges', 'frozen spinach', 'ice cream']\n"
     ]
    }
   ],
   "source": [
    "my_cart = []\n",
    "for i in shop_list:\n",
    "    if i in store_list:\n",
    "        my_cart.append(i)\n",
    "print(my_cart)"
   ]
  },
  {
   "cell_type": "markdown",
   "metadata": {},
   "source": [
    "<br>All of the code in the cell above (except the print statement) can be written as a list comprehension. It would look like this:"
   ]
  },
  {
   "cell_type": "markdown",
   "metadata": {},
   "source": [
    "**list comprehension solution**"
   ]
  },
  {
   "cell_type": "code",
   "execution_count": 11,
   "metadata": {},
   "outputs": [
    {
     "name": "stdout",
     "output_type": "stream",
     "text": [
      "['oranges', 'frozen spinach', 'ice cream']\n"
     ]
    }
   ],
   "source": [
    "my_cart = [i for i in shop_list if i in store_list]\n",
    "print(my_cart)"
   ]
  },
  {
   "cell_type": "markdown",
   "metadata": {},
   "source": [
    "#### <br>List comprehension syntax"
   ]
  },
  {
   "cell_type": "markdown",
   "metadata": {},
   "source": [
    "The figure below shows how each line of code in the *for loop* solution is transferred to the syntax of the list comprehension."
   ]
  },
  {
   "cell_type": "markdown",
   "metadata": {},
   "source": [
    "![syntax](syntax.png \"\")"
   ]
  },
  {
   "cell_type": "markdown",
   "metadata": {},
   "source": [
    "## <br><br>Part 2 - 7 uses of list comprehensions with exercises"
   ]
  },
  {
   "cell_type": "markdown",
   "metadata": {},
   "source": [
    "7 uses of list comprehensions:\n",
    "1. make a list of items that are shared (or unique) between two lists\n",
    "2. make a list of numbers in a certain range\n",
    "3. change all the items in a list in the same way\n",
    "4. filter a list by some condition (or multiple conditions)\n",
    "5. filter a dictionary by some condition (or multiple conditions)\n",
    "6. make a list out of the lines in a file\n",
    "7. make a list out of comma-separated items in a file\n",
    "\n",
    "We will also cover dictionary comprehensions."
   ]
  },
  {
   "cell_type": "markdown",
   "metadata": {},
   "source": [
    "### Example 1: Finding items that are shared between two lists"
   ]
  },
  {
   "cell_type": "markdown",
   "metadata": {},
   "source": [
    "This is the example we just completed at the end of Part One:"
   ]
  },
  {
   "cell_type": "code",
   "execution_count": 12,
   "metadata": {},
   "outputs": [],
   "source": [
    "store_list = [\"oranges\", \"milk\", \"bar soap\", \"pears\", \"canned artichokes\", \"frozen spinach\", \n",
    "              \"frozen burrito\", \"ice cream\", \"peanuts\"]\n",
    "\n",
    "shop_list = [\"oranges\", \"bread\", \"frozen spinach\", \"ice cream\", \"toilet paper\"]"
   ]
  },
  {
   "cell_type": "markdown",
   "metadata": {},
   "source": [
    "#### `for` loop"
   ]
  },
  {
   "cell_type": "code",
   "execution_count": 13,
   "metadata": {},
   "outputs": [
    {
     "name": "stdout",
     "output_type": "stream",
     "text": [
      "['oranges', 'frozen spinach', 'ice cream']\n"
     ]
    }
   ],
   "source": [
    "my_cart = []\n",
    "for i in shop_list:\n",
    "    if i in store_list:\n",
    "        my_cart.append(i)\n",
    "print(my_cart)"
   ]
  },
  {
   "cell_type": "markdown",
   "metadata": {},
   "source": [
    "#### list comprehension"
   ]
  },
  {
   "cell_type": "code",
   "execution_count": 14,
   "metadata": {},
   "outputs": [
    {
     "name": "stdout",
     "output_type": "stream",
     "text": [
      "['oranges', 'frozen spinach', 'ice cream']\n"
     ]
    }
   ],
   "source": [
    "my_cart = [i for i in shop_list if i in store_list]\n",
    "print(my_cart)"
   ]
  },
  {
   "cell_type": "markdown",
   "metadata": {},
   "source": [
    "#### <br>Exercise 1"
   ]
  },
  {
   "cell_type": "code",
   "execution_count": 15,
   "metadata": {},
   "outputs": [],
   "source": [
    "my_numbers = [3, 4, 5, 10, 12, 13, 24, 27, 29, 30, 44, 45]\n",
    "primes = [2, 3, 5, 7, 11, 13, 17, 19, 23, 29, 31, 37, 41, 43, 47]"
   ]
  },
  {
   "cell_type": "markdown",
   "metadata": {},
   "source": [
    "<br>Run the cell above to store the two lists. Write a list comprehension in the cell below to make a new list called `my_primes` that contains all the numbers in `my_numbers` that are also in `primes`."
   ]
  },
  {
   "cell_type": "code",
   "execution_count": 18,
   "metadata": {},
   "outputs": [],
   "source": [
    "my_primes = [i for i in my_numbers if i in primes]"
   ]
  },
  {
   "cell_type": "code",
   "execution_count": 19,
   "metadata": {},
   "outputs": [
    {
     "name": "stdout",
     "output_type": "stream",
     "text": [
      "[3, 5, 13, 29]\n"
     ]
    }
   ],
   "source": [
    "print(my_primes)"
   ]
  },
  {
   "cell_type": "markdown",
   "metadata": {},
   "source": [
    "<br>You can also use list comprehension to find items that are not shared between two lists."
   ]
  },
  {
   "cell_type": "markdown",
   "metadata": {},
   "source": [
    "Write a list comprehension to make a list called `not_primes`. It should contain all the numbers in the `my_numbers` list that are `not in` the `primes list`."
   ]
  },
  {
   "cell_type": "code",
   "execution_count": 20,
   "metadata": {},
   "outputs": [],
   "source": [
    "not_primes = [i for i in my_numbers if i not in primes]"
   ]
  },
  {
   "cell_type": "code",
   "execution_count": 21,
   "metadata": {},
   "outputs": [
    {
     "name": "stdout",
     "output_type": "stream",
     "text": [
      "[4, 10, 12, 24, 27, 30, 44, 45]\n"
     ]
    }
   ],
   "source": [
    "print(not_primes)"
   ]
  },
  {
   "cell_type": "markdown",
   "metadata": {},
   "source": [
    "### <br><br>Example 2: Lists of numbers in a certain range"
   ]
  },
  {
   "cell_type": "markdown",
   "metadata": {},
   "source": [
    "`range` is a handy function to use when you want to loop through a list of sequential numbers. You can give it parameters for which number to start with, which number to end with, and how many numbers to increment by."
   ]
  },
  {
   "cell_type": "markdown",
   "metadata": {},
   "source": [
    "#### `for` loops"
   ]
  },
  {
   "cell_type": "code",
   "execution_count": 22,
   "metadata": {},
   "outputs": [
    {
     "name": "stdout",
     "output_type": "stream",
     "text": [
      "0\n",
      "1\n",
      "2\n",
      "3\n",
      "4\n",
      "5\n",
      "6\n",
      "7\n",
      "8\n",
      "9\n"
     ]
    }
   ],
   "source": [
    "for i in range(0,10):\n",
    "    print(i)"
   ]
  },
  {
   "cell_type": "markdown",
   "metadata": {},
   "source": [
    "Remember that Python does not include the last number when indexing, so 10 is not included."
   ]
  },
  {
   "cell_type": "code",
   "execution_count": 23,
   "metadata": {},
   "outputs": [
    {
     "name": "stdout",
     "output_type": "stream",
     "text": [
      "1\n",
      "2\n",
      "3\n",
      "4\n",
      "5\n",
      "6\n",
      "7\n",
      "8\n",
      "9\n",
      "10\n"
     ]
    }
   ],
   "source": [
    "for i in range(1,11):\n",
    "    print(i)"
   ]
  },
  {
   "cell_type": "code",
   "execution_count": 24,
   "metadata": {},
   "outputs": [
    {
     "name": "stdout",
     "output_type": "stream",
     "text": [
      "1\n",
      "3\n",
      "5\n",
      "7\n",
      "9\n"
     ]
    }
   ],
   "source": [
    "#print odd numbers between 1 and 10\n",
    "for i in range(1,11,2):\n",
    "    print(i)"
   ]
  },
  {
   "cell_type": "code",
   "execution_count": 25,
   "metadata": {},
   "outputs": [
    {
     "name": "stdout",
     "output_type": "stream",
     "text": [
      "2\n",
      "4\n",
      "6\n",
      "8\n",
      "10\n"
     ]
    }
   ],
   "source": [
    "#print even numbers between 1 and 10\n",
    "for i in range(2,11,2):\n",
    "    print(i)"
   ]
  },
  {
   "cell_type": "markdown",
   "metadata": {},
   "source": [
    "#### list comprehension"
   ]
  },
  {
   "cell_type": "code",
   "execution_count": 26,
   "metadata": {},
   "outputs": [
    {
     "name": "stdout",
     "output_type": "stream",
     "text": [
      "[2, 4, 6, 8, 10]\n"
     ]
    }
   ],
   "source": [
    "even_numbers = [i for i in range(2,11,2)]\n",
    "print(even_numbers)"
   ]
  },
  {
   "cell_type": "markdown",
   "metadata": {},
   "source": [
    "#### <br>Exercise 2"
   ]
  },
  {
   "cell_type": "markdown",
   "metadata": {},
   "source": [
    "Write a list comprehension to make a list called `threes` of every third number between 3 and 99. "
   ]
  },
  {
   "cell_type": "code",
   "execution_count": 27,
   "metadata": {},
   "outputs": [],
   "source": [
    "threes = [i for i in range(3,100,3)]"
   ]
  },
  {
   "cell_type": "code",
   "execution_count": 28,
   "metadata": {},
   "outputs": [
    {
     "name": "stdout",
     "output_type": "stream",
     "text": [
      "[3, 6, 9, 12, 15, 18, 21, 24, 27, 30, 33, 36, 39, 42, 45, 48, 51, 54, 57, 60, 63, 66, 69, 72, 75, 78, 81, 84, 87, 90, 93, 96, 99]\n"
     ]
    }
   ],
   "source": [
    "print(threes)"
   ]
  },
  {
   "cell_type": "markdown",
   "metadata": {},
   "source": [
    "### <br><br>Example 3: Changing all items in a list"
   ]
  },
  {
   "cell_type": "markdown",
   "metadata": {},
   "source": [
    "We can also make changes to `i` before we add it to the list. We do this at the beginning of the list comprehension."
   ]
  },
  {
   "cell_type": "code",
   "execution_count": 29,
   "metadata": {},
   "outputs": [
    {
     "name": "stdout",
     "output_type": "stream",
     "text": [
      "[1, 4, 9, 16, 25, 36, 49, 64, 81, 100]\n"
     ]
    }
   ],
   "source": [
    "squares = [i**2 for i in range(1,11)]\n",
    "print(squares)"
   ]
  },
  {
   "cell_type": "markdown",
   "metadata": {},
   "source": [
    "<br>This makes list comprehension great for making changes to every item in an existing list. For example:"
   ]
  },
  {
   "cell_type": "code",
   "execution_count": 30,
   "metadata": {},
   "outputs": [],
   "source": [
    "names = [\"Cathy\", \"alvin\", \"MICAH\", \"tOmAs\"]"
   ]
  },
  {
   "cell_type": "code",
   "execution_count": 31,
   "metadata": {},
   "outputs": [
    {
     "name": "stdout",
     "output_type": "stream",
     "text": [
      "['Cathy', 'Alvin', 'Micah', 'Tomas']\n"
     ]
    }
   ],
   "source": [
    "names = [i.lower().capitalize() for i in names]\n",
    "print(names)"
   ]
  },
  {
   "cell_type": "markdown",
   "metadata": {},
   "source": [
    "#### <br>Exercise 3"
   ]
  },
  {
   "cell_type": "code",
   "execution_count": 33,
   "metadata": {},
   "outputs": [],
   "source": [
    "test_grades = [95, 74, 83, 90, 91, 93, 78, 79, 89, 80]"
   ]
  },
  {
   "cell_type": "markdown",
   "metadata": {},
   "source": [
    "You are a teacher who wants to give 2 extra credit points to everyone in your class on their latest test. Make a list called `adjusted_grades` that includes a list of new test grades with 2 bonus points added to each of the grades in the `test_grades` list."
   ]
  },
  {
   "cell_type": "code",
   "execution_count": 34,
   "metadata": {},
   "outputs": [],
   "source": [
    "adjusted_grades = [i+2 for i in test_grades] "
   ]
  },
  {
   "cell_type": "code",
   "execution_count": 35,
   "metadata": {},
   "outputs": [
    {
     "name": "stdout",
     "output_type": "stream",
     "text": [
      "[97, 76, 85, 92, 93, 95, 80, 81, 91, 82]\n"
     ]
    }
   ],
   "source": [
    "print(adjusted_grades)"
   ]
  },
  {
   "cell_type": "markdown",
   "metadata": {},
   "source": [
    "### <br><br>Example 4: Filtering other lists"
   ]
  },
  {
   "cell_type": "markdown",
   "metadata": {},
   "source": [
    "We can include multiple conditionals in our list comprehension."
   ]
  },
  {
   "cell_type": "markdown",
   "metadata": {},
   "source": [
    "Here we have a list of grades. We want to make a list that includes only the grades of students who we want to put on probation. The list will not include students who are failing, so we only want students with grades 60-69."
   ]
  },
  {
   "cell_type": "code",
   "execution_count": 36,
   "metadata": {},
   "outputs": [
    {
     "name": "stdout",
     "output_type": "stream",
     "text": [
      "[62, 68, 60, 68]\n"
     ]
    }
   ],
   "source": [
    "grades = [54, 92, 88, 73, 77, 62, 68, 89, 75, 55, 60, 70, 68]\n",
    "probation_list = [i for i in grades if i < 70 and i > 59]\n",
    "print(probation_list)"
   ]
  },
  {
   "cell_type": "markdown",
   "metadata": {},
   "source": [
    "Notice in the conditional phrase `if i < 70 and i > 59` we only say `if` once at the beginning, but we include `i` in both conditionals."
   ]
  },
  {
   "cell_type": "markdown",
   "metadata": {},
   "source": [
    "#### <br>Exercise 4"
   ]
  },
  {
   "cell_type": "code",
   "execution_count": 37,
   "metadata": {},
   "outputs": [],
   "source": [
    "students = [\"Jordan\", \"Borden\", \"Gordon\", \"Morgan\", \"Horton\", \n",
    "            \"Zorgon\", \"Corden\", \"Porgan\", \"Argon\"]"
   ]
  },
  {
   "cell_type": "markdown",
   "metadata": {},
   "source": [
    "Use list comprehension to make a list called `ABC_list` of all students with names that start with A, B, `or` C."
   ]
  },
  {
   "cell_type": "code",
   "execution_count": 40,
   "metadata": {},
   "outputs": [],
   "source": [
    "ABC_list = [i for i in students if i[0] in ['A','B','C']]"
   ]
  },
  {
   "cell_type": "code",
   "execution_count": 41,
   "metadata": {},
   "outputs": [
    {
     "name": "stdout",
     "output_type": "stream",
     "text": [
      "['Borden', 'Corden', 'Argon']\n"
     ]
    }
   ],
   "source": [
    "print(ABC_list)"
   ]
  },
  {
   "cell_type": "markdown",
   "metadata": {},
   "source": [
    "### <br><br>Example 5: Filtering dictionaries"
   ]
  },
  {
   "cell_type": "markdown",
   "metadata": {},
   "source": [
    "You can also make a list by filtering a dictionary."
   ]
  },
  {
   "cell_type": "markdown",
   "metadata": {},
   "source": [
    "In this example, I have a dictionary of objects in our solar system. The keys are the object names and the values are the type of object."
   ]
  },
  {
   "cell_type": "code",
   "execution_count": 42,
   "metadata": {},
   "outputs": [],
   "source": [
    "solar_system = {\"Earth\": \"planet\", \"Venus\": \"planet\", \"Pluto\": \"dwarfplanet\", \n",
    "                \"Neptune\": \"planet\", \"Jupiter\": \"planet\", \"Mars\": \"planet\", \n",
    "                \"Ceres\": \"dwarfplanet\", \"Saturn\": \"planet\", \"Mercury\": \"planet\", \n",
    "                \"Eris\": \"dwarfplanet\", \"Uranus\": \"planet\", \n",
    "                \"Makemake\": \"dwarfplanet\", \"Haumea\": \"dwarfplanet\"}"
   ]
  },
  {
   "cell_type": "markdown",
   "metadata": {},
   "source": [
    "<br>Let's review dictionary indexing:"
   ]
  },
  {
   "cell_type": "code",
   "execution_count": 43,
   "metadata": {},
   "outputs": [
    {
     "name": "stdout",
     "output_type": "stream",
     "text": [
      "Keys:\n",
      "dict_keys(['Earth', 'Venus', 'Pluto', 'Neptune', 'Jupiter', 'Mars', 'Ceres', 'Saturn', 'Mercury', 'Eris', 'Uranus', 'Makemake', 'Haumea'])\n"
     ]
    }
   ],
   "source": [
    "print(\"Keys:\")\n",
    "print(solar_system.keys())"
   ]
  },
  {
   "cell_type": "code",
   "execution_count": 44,
   "metadata": {},
   "outputs": [
    {
     "name": "stdout",
     "output_type": "stream",
     "text": [
      "Values:\n",
      "dict_values(['planet', 'planet', 'dwarfplanet', 'planet', 'planet', 'planet', 'dwarfplanet', 'planet', 'planet', 'dwarfplanet', 'planet', 'dwarfplanet', 'dwarfplanet'])\n"
     ]
    }
   ],
   "source": [
    "print(\"Values:\")\n",
    "print(solar_system.values())"
   ]
  },
  {
   "cell_type": "code",
   "execution_count": 45,
   "metadata": {},
   "outputs": [
    {
     "name": "stdout",
     "output_type": "stream",
     "text": [
      "Keys and Values:\n",
      "dict_items([('Earth', 'planet'), ('Venus', 'planet'), ('Pluto', 'dwarfplanet'), ('Neptune', 'planet'), ('Jupiter', 'planet'), ('Mars', 'planet'), ('Ceres', 'dwarfplanet'), ('Saturn', 'planet'), ('Mercury', 'planet'), ('Eris', 'dwarfplanet'), ('Uranus', 'planet'), ('Makemake', 'dwarfplanet'), ('Haumea', 'dwarfplanet')])\n"
     ]
    }
   ],
   "source": [
    "print(\"Keys and Values:\")\n",
    "print(solar_system.items())"
   ]
  },
  {
   "cell_type": "code",
   "execution_count": 46,
   "metadata": {},
   "outputs": [
    {
     "data": {
      "text/plain": [
       "'planet'"
      ]
     },
     "execution_count": 46,
     "metadata": {},
     "output_type": "execute_result"
    }
   ],
   "source": [
    "solar_system[\"Earth\"]"
   ]
  },
  {
   "cell_type": "markdown",
   "metadata": {},
   "source": [
    "<br>So we could write a list comprehnsion to return a list of only the planets:"
   ]
  },
  {
   "cell_type": "code",
   "execution_count": 47,
   "metadata": {},
   "outputs": [
    {
     "name": "stdout",
     "output_type": "stream",
     "text": [
      "['Earth', 'Venus', 'Neptune', 'Jupiter', 'Mars', 'Saturn', 'Mercury', 'Uranus']\n"
     ]
    }
   ],
   "source": [
    "planets = [i for i in solar_system.keys() if solar_system[i] == \"planet\"]\n",
    "print(planets)"
   ]
  },
  {
   "cell_type": "markdown",
   "metadata": {},
   "source": [
    "#### <br>Exercise 5"
   ]
  },
  {
   "cell_type": "code",
   "execution_count": null,
   "metadata": {},
   "outputs": [],
   "source": [
    "solar_system = {\"Earth\": \"planet\", \"Venus\": \"planet\", \"Pluto\": \"dwarfplanet\", \n",
    "                \"Neptune\": \"planet\", \"Jupiter\": \"planet\", \"Mars\": \"planet\", \n",
    "                \"Ceres\": \"dwarfplanet\", \"Saturn\": \"planet\", \"Mercury\": \"planet\", \n",
    "                \"Eris\": \"dwarfplanet\", \"Uranus\": \"planet\", \n",
    "                \"Makemake\": \"dwarfplanet\", \"Haumea\": \"dwarfplanet\"}"
   ]
  },
  {
   "cell_type": "markdown",
   "metadata": {},
   "source": [
    "Pretend you feel very strongly that Pluto is a planet (or maybe you already do feel very strongly that Pluto is a planet). Modify the list comprehension below to include all the keys with \"planet\" as a value and also Pluto."
   ]
  },
  {
   "cell_type": "code",
   "execution_count": 48,
   "metadata": {},
   "outputs": [],
   "source": [
    "planets = [i for i in solar_system.keys() if (solar_system[i] == \"planet\" or i=='Pluto')]"
   ]
  },
  {
   "cell_type": "code",
   "execution_count": 49,
   "metadata": {},
   "outputs": [
    {
     "name": "stdout",
     "output_type": "stream",
     "text": [
      "['Earth', 'Venus', 'Pluto', 'Neptune', 'Jupiter', 'Mars', 'Saturn', 'Mercury', 'Uranus']\n"
     ]
    }
   ],
   "source": [
    "print(planets)"
   ]
  },
  {
   "cell_type": "markdown",
   "metadata": {},
   "source": [
    "### <br><br>Example 6: Making a list out of the lines in a file"
   ]
  },
  {
   "cell_type": "markdown",
   "metadata": {},
   "source": [
    "List comprehensions are very useful for making a list out of all the lines in a file. Remember that it is usually best to use `with` for opening files because it will automatically close the file and free up memory."
   ]
  },
  {
   "cell_type": "markdown",
   "metadata": {},
   "source": [
    "#### `with` statement and `for` loop"
   ]
  },
  {
   "cell_type": "code",
   "execution_count": 50,
   "metadata": {},
   "outputs": [
    {
     "name": "stdout",
     "output_type": "stream",
     "text": [
      "['gene02983.fa\\n', 'gene03837.fa\\n', 'gene09274.fa\\n', 'gene08434.fa\\n', 'gene02274.fa\\n', 'gene07262.fa\\n', 'gene06653.fa\\n', 'gene01635.fa\\n', 'gene05107.fa\\n', 'gene02939.fa\\n', 'protein07748.txt\\n', 'protein03625.txt\\n', 'gene08263.fa\\n', 'gene08825.fa\\n', 'gene07225.fa']\n"
     ]
    }
   ],
   "source": [
    "line_list = []\n",
    "with open(\"genes.txt\", \"r\") as f:\n",
    "    for line in f:\n",
    "        line_list.append(line)\n",
    "print(line_list)"
   ]
  },
  {
   "cell_type": "markdown",
   "metadata": {},
   "source": [
    "#### list comprehension"
   ]
  },
  {
   "cell_type": "code",
   "execution_count": 51,
   "metadata": {},
   "outputs": [],
   "source": [
    "with open(\"genes.txt\", \"r\") as f:\n",
    "    line_list = [line for line in f]"
   ]
  },
  {
   "cell_type": "code",
   "execution_count": 52,
   "metadata": {},
   "outputs": [
    {
     "name": "stdout",
     "output_type": "stream",
     "text": [
      "['gene02983.fa\\n', 'gene03837.fa\\n', 'gene09274.fa\\n', 'gene08434.fa\\n', 'gene02274.fa\\n', 'gene07262.fa\\n', 'gene06653.fa\\n', 'gene01635.fa\\n', 'gene05107.fa\\n', 'gene02939.fa\\n', 'protein07748.txt\\n', 'protein03625.txt\\n', 'gene08263.fa\\n', 'gene08825.fa\\n', 'gene07225.fa']\n"
     ]
    }
   ],
   "source": [
    "print(line_list)"
   ]
  },
  {
   "cell_type": "markdown",
   "metadata": {},
   "source": [
    "<br>Some of you might know that you can also get a list of lines by using the `readlines()` function, like this:"
   ]
  },
  {
   "cell_type": "code",
   "execution_count": 53,
   "metadata": {},
   "outputs": [
    {
     "name": "stdout",
     "output_type": "stream",
     "text": [
      "['gene02983.fa\\n', 'gene03837.fa\\n', 'gene09274.fa\\n', 'gene08434.fa\\n', 'gene02274.fa\\n', 'gene07262.fa\\n', 'gene06653.fa\\n', 'gene01635.fa\\n', 'gene05107.fa\\n', 'gene02939.fa\\n', 'protein07748.txt\\n', 'protein03625.txt\\n', 'gene08263.fa\\n', 'gene08825.fa\\n', 'gene07225.fa']\n"
     ]
    }
   ],
   "source": [
    "with open(\"genes.txt\", \"r\") as f:\n",
    "    line_list = f.readlines()\n",
    "print(line_list)"
   ]
  },
  {
   "cell_type": "markdown",
   "metadata": {},
   "source": [
    "<br>However, there is an advantage to using a list comprehension instead of `readlines()`, which you will see in the next exercise."
   ]
  },
  {
   "cell_type": "markdown",
   "metadata": {},
   "source": [
    "#### <br>Exercise 6.1"
   ]
  },
  {
   "cell_type": "markdown",
   "metadata": {},
   "source": [
    "Remember that we can do something to the item in a list comprehension. Rewrite this list comprehension, using the `.rstrip()` function to remove the new line character from each line before adding it to the list."
   ]
  },
  {
   "cell_type": "code",
   "execution_count": 56,
   "metadata": {},
   "outputs": [],
   "source": [
    "with open(\"genes.txt\", \"r\") as f:\n",
    "    line_list = [line.rstrip(\"\\n\") for line in f]"
   ]
  },
  {
   "cell_type": "code",
   "execution_count": 57,
   "metadata": {},
   "outputs": [
    {
     "name": "stdout",
     "output_type": "stream",
     "text": [
      "['gene02983.fa', 'gene03837.fa', 'gene09274.fa', 'gene08434.fa', 'gene02274.fa', 'gene07262.fa', 'gene06653.fa', 'gene01635.fa', 'gene05107.fa', 'gene02939.fa', 'protein07748.txt', 'protein03625.txt', 'gene08263.fa', 'gene08825.fa', 'gene07225.fa']\n"
     ]
    }
   ],
   "source": [
    "print(line_list)"
   ]
  },
  {
   "cell_type": "markdown",
   "metadata": {},
   "source": [
    "#### <br>Exercise 6.2"
   ]
  },
  {
   "cell_type": "markdown",
   "metadata": {},
   "source": [
    "Copy your code from exercise 6.1 into the cell below and then modify it to only include the gene files, leaving out the protein files."
   ]
  },
  {
   "cell_type": "code",
   "execution_count": 60,
   "metadata": {},
   "outputs": [],
   "source": [
    "with open(\"genes.txt\", \"r\") as f:\n",
    "    line_list = [line.rstrip(\"\\n\") for line in f if line[0:3]=='gen']"
   ]
  },
  {
   "cell_type": "code",
   "execution_count": 61,
   "metadata": {},
   "outputs": [
    {
     "name": "stdout",
     "output_type": "stream",
     "text": [
      "['gene02983.fa', 'gene03837.fa', 'gene09274.fa', 'gene08434.fa', 'gene02274.fa', 'gene07262.fa', 'gene06653.fa', 'gene01635.fa', 'gene05107.fa', 'gene02939.fa', 'gene08263.fa', 'gene08825.fa', 'gene07225.fa']\n"
     ]
    }
   ],
   "source": [
    "print(line_list)"
   ]
  },
  {
   "cell_type": "markdown",
   "metadata": {},
   "source": [
    "### <br><br>Example 7: Making a list out of items in a file"
   ]
  },
  {
   "cell_type": "markdown",
   "metadata": {},
   "source": [
    "Let's say our file contains more information than we want to include in our list. If the file contains patterns that can be parsed, like comma-separated data (or tab-separated, space-separated, etc.), we can still use list comprehension."
   ]
  },
  {
   "cell_type": "markdown",
   "metadata": {},
   "source": [
    "First, let's see what the file we're going to work with looks like:"
   ]
  },
  {
   "cell_type": "code",
   "execution_count": 62,
   "metadata": {},
   "outputs": [
    {
     "name": "stdout",
     "output_type": "stream",
     "text": [
      "gene02983,55433\n",
      "\n",
      "gene03837,63024\n",
      "\n",
      "gene09274,10629\n",
      "\n",
      "gene08434,17350\n",
      "\n",
      "gene02274,18907\n",
      "\n",
      "gene07262,11634\n",
      "\n",
      "gene06653,38096\n",
      "\n",
      "gene01635,7698\n",
      "\n",
      "gene05107,20564\n",
      "\n",
      "gene02939,31837\n",
      "\n",
      "gene08263,24448\n",
      "\n",
      "gene08825,9861\n",
      "\n",
      "gene07225,19038\n"
     ]
    }
   ],
   "source": [
    "with open(\"genelengths.txt\", \"r\") as f:\n",
    "    for line in f:\n",
    "        print(line)"
   ]
  },
  {
   "cell_type": "markdown",
   "metadata": {},
   "source": [
    "<br>We can write a list comprehension to make a list of only the first items in the list (all the characters before the commas on each line):"
   ]
  },
  {
   "cell_type": "code",
   "execution_count": 63,
   "metadata": {},
   "outputs": [
    {
     "name": "stdout",
     "output_type": "stream",
     "text": [
      "['gene02983', 'gene03837', 'gene09274', 'gene08434', 'gene02274', 'gene07262', 'gene06653', 'gene01635', 'gene05107', 'gene02939', 'gene08263', 'gene08825', 'gene07225']\n"
     ]
    }
   ],
   "source": [
    "with open(\"genelengths.txt\", \"r\") as f:\n",
    "    gene_names = [line.split(\",\")[0] for line in f]\n",
    "print(gene_names)"
   ]
  },
  {
   "cell_type": "markdown",
   "metadata": {},
   "source": [
    "#### <br>Exercise 7"
   ]
  },
  {
   "cell_type": "markdown",
   "metadata": {},
   "source": [
    "Write a list comprehension to make a list called `lengths` of the gene lengths from the \"genelengths.txt\" file."
   ]
  },
  {
   "cell_type": "code",
   "execution_count": 66,
   "metadata": {},
   "outputs": [
    {
     "name": "stdout",
     "output_type": "stream",
     "text": [
      "['55433', '63024', '10629', '17350', '18907', '11634', '38096', '7698', '20564', '31837', '24448', '9861', '19038']\n"
     ]
    }
   ],
   "source": [
    "with open(\"genelengths.txt\", \"r\") as f:\n",
    "    lenghts = [line.split(\",\")[1].rstrip(\"\\n\") for line in f]\n",
    "    \n",
    "\n",
    "print(lenghts)"
   ]
  },
  {
   "cell_type": "markdown",
   "metadata": {},
   "source": [
    "## <br><br>Part 3 - Dictionary Comprehension"
   ]
  },
  {
   "cell_type": "markdown",
   "metadata": {},
   "source": [
    "You can also write dictionary comprehensions! Use curly brackets instead of square brackets, and include the key and value separated by a colon."
   ]
  },
  {
   "cell_type": "code",
   "execution_count": 67,
   "metadata": {},
   "outputs": [
    {
     "name": "stdout",
     "output_type": "stream",
     "text": [
      "{'Jordan': 0, 'Gordon': 0, 'Morgan': 0, 'Horton': 0, 'Zorgon': 0, 'Corden': 0, 'Porgan': 0}\n"
     ]
    }
   ],
   "source": [
    "students = [\"Jordan\", \"Gordon\", \"Morgan\", \"Horton\", \"Zorgon\", \"Corden\", \"Porgan\"]\n",
    "starting_grades = {i:0 for i in students}\n",
    "print(starting_grades)"
   ]
  },
  {
   "cell_type": "markdown",
   "metadata": {},
   "source": [
    "#### Exercise D1"
   ]
  },
  {
   "cell_type": "markdown",
   "metadata": {},
   "source": [
    "Use dictionary comprehension to turn this list of planets into a dictionary with the planet names as the keys and the word \"planet\" as the value."
   ]
  },
  {
   "cell_type": "code",
   "execution_count": 69,
   "metadata": {},
   "outputs": [],
   "source": [
    "planet_list = [\"Earth\", \"Venus\", \"Mercury\", \"Mars\", \"Jupiter\", \"Saturn\", \"Neptune\", \"Uranus\"]"
   ]
  },
  {
   "cell_type": "code",
   "execution_count": 70,
   "metadata": {},
   "outputs": [],
   "source": [
    "planet_dict = {i:\"planet\" for i in planet_list}"
   ]
  },
  {
   "cell_type": "code",
   "execution_count": 71,
   "metadata": {},
   "outputs": [
    {
     "name": "stdout",
     "output_type": "stream",
     "text": [
      "{'Earth': 'planet', 'Venus': 'planet', 'Mercury': 'planet', 'Mars': 'planet', 'Jupiter': 'planet', 'Saturn': 'planet', 'Neptune': 'planet', 'Uranus': 'planet'}\n"
     ]
    }
   ],
   "source": [
    "print(planet_dict)"
   ]
  },
  {
   "cell_type": "markdown",
   "metadata": {},
   "source": [
    "### <br><br>Using dictionary comprehension and `zip()` to combine two lists"
   ]
  },
  {
   "cell_type": "markdown",
   "metadata": {},
   "source": [
    "<br>You can also make a dictionary out of two lists using the `zip()` function. "
   ]
  },
  {
   "cell_type": "markdown",
   "metadata": {},
   "source": [
    "Remember that when you loop through two items (like when you loop through both the keys and values in a dictionary) you include two values in your for statement, separated by a comma."
   ]
  },
  {
   "cell_type": "code",
   "execution_count": 72,
   "metadata": {},
   "outputs": [
    {
     "name": "stdout",
     "output_type": "stream",
     "text": [
      "{'Jordan': 55, 'Gordon': 75, 'Morgan': 85, 'Horton': 100, 'Zorgon': 65, 'Corden': 75, 'Porgan': 100}\n"
     ]
    }
   ],
   "source": [
    "students = [\"Jordan\", \"Gordon\", \"Morgan\", \"Horton\", \"Zorgon\", \"Corden\", \"Porgan\"]\n",
    "test_grades = [55, 75, 85, 100, 65, 75, 100]\n",
    "test_1 = {i:j for i,j in zip(students, test_grades)}\n",
    "print(test_1)"
   ]
  },
  {
   "cell_type": "markdown",
   "metadata": {},
   "source": [
    "#### Exercise D2"
   ]
  },
  {
   "cell_type": "markdown",
   "metadata": {},
   "source": [
    "Use dictionary comprehension and the zip function to combine these 2 lists of solar system objects and their planetary status. The keys should be the names of the objects and the values should be their status."
   ]
  },
  {
   "cell_type": "code",
   "execution_count": 74,
   "metadata": {},
   "outputs": [],
   "source": [
    "objects = [\"Earth\", \"Venus\", \"Mercury\", \"Mars\", \"Jupiter\", \"Saturn\", \n",
    "           \"Neptune\", \"Uranus\", \"Ceres\", \"Eris\", \"Pluto\", \"Makemake\", \"Haumea\"]\n",
    "status = [\"planet\", \"planet\",\"planet\",\"planet\",\"planet\",\"planet\",\"planet\", \n",
    "          \"planet\", \"dwarfplanet\", \"dwarfplanet\", \"dwarfplanet\", \"dwarfplanet\", \"dwarfplanet\"]"
   ]
  },
  {
   "cell_type": "code",
   "execution_count": 75,
   "metadata": {},
   "outputs": [],
   "source": [
    "solar_system = {i:j for i,j in zip(objects,status)}"
   ]
  },
  {
   "cell_type": "code",
   "execution_count": 76,
   "metadata": {},
   "outputs": [
    {
     "name": "stdout",
     "output_type": "stream",
     "text": [
      "{'Earth': 'planet', 'Venus': 'planet', 'Mercury': 'planet', 'Mars': 'planet', 'Jupiter': 'planet', 'Saturn': 'planet', 'Neptune': 'planet', 'Uranus': 'planet', 'Ceres': 'dwarfplanet', 'Eris': 'dwarfplanet', 'Pluto': 'dwarfplanet', 'Makemake': 'dwarfplanet', 'Haumea': 'dwarfplanet'}\n"
     ]
    }
   ],
   "source": [
    "print(solar_system)"
   ]
  },
  {
   "cell_type": "markdown",
   "metadata": {},
   "source": [
    "### <br><br>Filter lists as you make a dictionary"
   ]
  },
  {
   "cell_type": "markdown",
   "metadata": {},
   "source": [
    "<br>Using a dictionary comprehension allows you to add conditionals while making the dictionary:"
   ]
  },
  {
   "cell_type": "code",
   "execution_count": 77,
   "metadata": {},
   "outputs": [
    {
     "name": "stdout",
     "output_type": "stream",
     "text": [
      "{'Gordon': 75, 'Morgan': 85, 'Horton': 100, 'Zorgon': 65, 'Corden': 75, 'Porgan': 100}\n"
     ]
    }
   ],
   "source": [
    "students = [\"Jordan\", \"Gordon\", \"Morgan\", \"Horton\", \"Zorgon\", \"Corden\", \"Porgan\"]\n",
    "test_grades = [55, 75, 85, 100, 65, 75, 100]\n",
    "passing_grades = {i:j for i,j in zip(students, test_grades) if j >= 60}\n",
    "print(passing_grades)"
   ]
  },
  {
   "cell_type": "markdown",
   "metadata": {},
   "source": [
    "#### Exercise D3"
   ]
  },
  {
   "cell_type": "markdown",
   "metadata": {},
   "source": [
    "Make a dictionary with the object name as the key and the status as the value, but only include objects that are planets."
   ]
  },
  {
   "cell_type": "code",
   "execution_count": null,
   "metadata": {},
   "outputs": [],
   "source": [
    "objects = [\"Earth\", \"Venus\", \"Mercury\", \"Mars\", \"Jupiter\", \"Saturn\", \n",
    "           \"Neptune\", \"Uranus\", \"Ceres\", \"Eris\", \"Pluto\", \"Makemake\", \"Haumea\"]\n",
    "status = [\"planet\", \"planet\",\"planet\",\"planet\",\"planet\",\"planet\",\"planet\", \n",
    "          \"planet\", \"dwarfplanet\", \"dwarfplanet\", \"dwarfplanet\", \"dwarfplanet\", \"dwarfplanet\"]"
   ]
  },
  {
   "cell_type": "code",
   "execution_count": 80,
   "metadata": {},
   "outputs": [],
   "source": [
    "planet_dict = {i:j for i,j in zip(objects,status) if j==\"planet\"}"
   ]
  },
  {
   "cell_type": "code",
   "execution_count": 81,
   "metadata": {},
   "outputs": [
    {
     "name": "stdout",
     "output_type": "stream",
     "text": [
      "{'Earth': 'planet', 'Venus': 'planet', 'Mercury': 'planet', 'Mars': 'planet', 'Jupiter': 'planet', 'Saturn': 'planet', 'Neptune': 'planet', 'Uranus': 'planet'}\n"
     ]
    }
   ],
   "source": [
    "print(planet_dict)"
   ]
  },
  {
   "cell_type": "markdown",
   "metadata": {},
   "source": [
    "### <br><br>Filtering an existing dictionary"
   ]
  },
  {
   "cell_type": "markdown",
   "metadata": {},
   "source": [
    "<br>You can also use a dictionary comprehension to filter an existing dictionary. Since we want both the keys and values in our final dictionary, our for loop should use the `.items()` method function:"
   ]
  },
  {
   "cell_type": "code",
   "execution_count": 82,
   "metadata": {},
   "outputs": [
    {
     "name": "stdout",
     "output_type": "stream",
     "text": [
      "{'Earth': 'planet', 'Venus': 'planet', 'Neptune': 'planet', 'Jupiter': 'planet', 'Mars': 'planet', 'Saturn': 'planet', 'Mercury': 'planet', 'Uranus': 'planet'}\n"
     ]
    }
   ],
   "source": [
    "solar_system = {\"Earth\": \"planet\", \"Venus\": \"planet\", \"Pluto\": \"dwarfplanet\", \n",
    "                \"Neptune\": \"planet\", \"Jupiter\": \"planet\", \"Mars\": \"planet\", \n",
    "                \"Ceres\": \"dwarfplanet\", \"Saturn\": \"planet\", \"Mercury\": \"planet\", \n",
    "                \"Eris\": \"dwarfplanet\", \"Uranus\": \"planet\", \n",
    "                \"Makemake\": \"dwarfplanet\", \"Haumea\": \"dwarfplanet\"}\n",
    "planets_dict = {k:v for k,v in solar_system.items() if v == \"planet\"}\n",
    "print(planets_dict)"
   ]
  },
  {
   "cell_type": "code",
   "execution_count": 87,
   "metadata": {},
   "outputs": [
    {
     "name": "stdout",
     "output_type": "stream",
     "text": [
      "('Earth', 'planet')\n",
      "('Venus', 'planet')\n",
      "('Pluto', 'dwarfplanet')\n",
      "('Neptune', 'planet')\n",
      "('Jupiter', 'planet')\n",
      "('Mars', 'planet')\n",
      "('Ceres', 'dwarfplanet')\n",
      "('Saturn', 'planet')\n",
      "('Mercury', 'planet')\n",
      "('Eris', 'dwarfplanet')\n",
      "('Uranus', 'planet')\n",
      "('Makemake', 'dwarfplanet')\n",
      "('Haumea', 'dwarfplanet')\n"
     ]
    }
   ],
   "source": [
    "for k in solar_system.items():\n",
    "    print(k)"
   ]
  },
  {
   "cell_type": "markdown",
   "metadata": {},
   "source": [
    "#### Exercise D4"
   ]
  },
  {
   "cell_type": "markdown",
   "metadata": {},
   "source": [
    "Make a new dictionary that only includes students with grades over 90."
   ]
  },
  {
   "cell_type": "code",
   "execution_count": 89,
   "metadata": {},
   "outputs": [],
   "source": [
    "grade_dict = {'Jordan': 55, 'Gordon': 75, 'Morgan': 85, 'Horton': 100, \n",
    "              'Zorgon': 65, 'Corden': 75, 'Porgan': 100}"
   ]
  },
  {
   "cell_type": "code",
   "execution_count": 90,
   "metadata": {},
   "outputs": [],
   "source": [
    "A_students = {j:k for j,k in grade_dict.items() if k>90}"
   ]
  },
  {
   "cell_type": "code",
   "execution_count": 91,
   "metadata": {},
   "outputs": [
    {
     "name": "stdout",
     "output_type": "stream",
     "text": [
      "{'Horton': 100, 'Porgan': 100}\n"
     ]
    }
   ],
   "source": [
    "print(A_students)"
   ]
  },
  {
   "cell_type": "markdown",
   "metadata": {},
   "source": [
    "### <br><br>Make changes to keys and values when creating the dictionary"
   ]
  },
  {
   "cell_type": "markdown",
   "metadata": {},
   "source": [
    "<br>You can make changes to the keys and values before adding them. Take a minute to try and predict the output of this code before you run it:"
   ]
  },
  {
   "cell_type": "code",
   "execution_count": 92,
   "metadata": {},
   "outputs": [
    {
     "name": "stdout",
     "output_type": "stream",
     "text": [
      "{'EARTH': 'Planet', 'VENUS': 'Planet', 'NEPTUNE': 'Planet', 'JUPITER': 'Planet', 'MARS': 'Planet', 'SATURN': 'Planet', 'MERCURY': 'Planet', 'URANUS': 'Planet'}\n"
     ]
    }
   ],
   "source": [
    "solar_system = {\"Earth\": \"planet\", \"Venus\": \"planet\", \"Pluto\": \"dwarfplanet\", \n",
    "                \"Neptune\": \"planet\", \"Jupiter\": \"planet\", \"Mars\": \"planet\", \n",
    "                \"Ceres\": \"dwarfplanet\", \"Saturn\": \"planet\", \"Mercury\": \"planet\", \n",
    "                \"Eris\": \"dwarfplanet\", \"Uranus\": \"planet\", \n",
    "                \"Makemake\": \"dwarfplanet\", \"Haumea\": \"dwarfplanet\"}\n",
    "planets_dict = {k.upper():v.capitalize() for k,v in solar_system.items() if v == \"planet\"}\n",
    "print(planets_dict)"
   ]
  },
  {
   "cell_type": "markdown",
   "metadata": {},
   "source": [
    "#### Exercise D5"
   ]
  },
  {
   "cell_type": "markdown",
   "metadata": {},
   "source": [
    "Use dictionary comprehension to create a dictionary called `students_ABC` with each student's name as the key, and the first letter of each student's name as the value."
   ]
  },
  {
   "cell_type": "code",
   "execution_count": 93,
   "metadata": {},
   "outputs": [],
   "source": [
    "students = [\"Jordan\", \"Gordon\", \"Morgan\", \"Horton\", \"Zorgon\", \"Corden\", \"Porgan\"]"
   ]
  },
  {
   "cell_type": "code",
   "execution_count": 94,
   "metadata": {},
   "outputs": [],
   "source": [
    "students_ABC = {k:k[0] for k in students}"
   ]
  },
  {
   "cell_type": "code",
   "execution_count": 95,
   "metadata": {},
   "outputs": [
    {
     "name": "stdout",
     "output_type": "stream",
     "text": [
      "{'Jordan': 'J', 'Gordon': 'G', 'Morgan': 'M', 'Horton': 'H', 'Zorgon': 'Z', 'Corden': 'C', 'Porgan': 'P'}\n"
     ]
    }
   ],
   "source": [
    "print(students_ABC)"
   ]
  },
  {
   "cell_type": "markdown",
   "metadata": {},
   "source": [
    "### <br><br>Make a dictionary from data in a file"
   ]
  },
  {
   "cell_type": "markdown",
   "metadata": {},
   "source": [
    "<br>Finally, you can use dictionary comprehension to make a dictionary from data in a file:"
   ]
  },
  {
   "cell_type": "code",
   "execution_count": 96,
   "metadata": {},
   "outputs": [
    {
     "name": "stdout",
     "output_type": "stream",
     "text": [
      "{'gene02983': '55433', 'gene03837': '63024', 'gene09274': '10629', 'gene08434': '17350', 'gene02274': '18907', 'gene07262': '11634', 'gene06653': '38096', 'gene01635': '7698', 'gene05107': '20564', 'gene02939': '31837', 'gene08263': '24448', 'gene08825': '9861', 'gene07225': '19038'}\n"
     ]
    }
   ],
   "source": [
    "with open(\"genelengths.txt\", \"r\") as f:\n",
    "    length_dict = {line.split(\",\")[0]:line.split(\",\")[1].rstrip(\"\\n\") for line in f}\n",
    "print(length_dict)"
   ]
  },
  {
   "cell_type": "markdown",
   "metadata": {},
   "source": [
    "#### Exercise D6"
   ]
  },
  {
   "cell_type": "markdown",
   "metadata": {},
   "source": [
    "The \"genes.txt\" file contains some genes and some proteins. Make a dictionary from that file that has each line as the key and either \"gene\" or \"protein\" as the value."
   ]
  },
  {
   "cell_type": "code",
   "execution_count": 98,
   "metadata": {},
   "outputs": [],
   "source": [
    "with open(\"genes.txt\", \"r\") as f:\n",
    "    line_list = [line for line in f]"
   ]
  },
  {
   "cell_type": "code",
   "execution_count": 99,
   "metadata": {},
   "outputs": [
    {
     "name": "stdout",
     "output_type": "stream",
     "text": [
      "['gene02983.fa\\n', 'gene03837.fa\\n', 'gene09274.fa\\n', 'gene08434.fa\\n', 'gene02274.fa\\n', 'gene07262.fa\\n', 'gene06653.fa\\n', 'gene01635.fa\\n', 'gene05107.fa\\n', 'gene02939.fa\\n', 'protein07748.txt\\n', 'protein03625.txt\\n', 'gene08263.fa\\n', 'gene08825.fa\\n', 'gene07225.fa']\n"
     ]
    }
   ],
   "source": [
    "print(line_list)"
   ]
  },
  {
   "cell_type": "code",
   "execution_count": 120,
   "metadata": {},
   "outputs": [],
   "source": [
    "# Make two dictionaries and combine them afterwards\n",
    "\n",
    "with open(\"genes.txt\", \"r\") as f:\n",
    "    gene_dict = {line.rstrip(\"\\n\"):\"gene\" for line in f if line[0]==\"g\"}\n",
    "\n",
    "with open(\"genes.txt\", \"r\") as f:\n",
    "    prot_dict = {line.rstrip(\"\\n\"):\"protein\" for line in f if line[0]==\"p\"}    \n",
    "\n",
    "## This is the way to combine them\n",
    "dict_both = {**gene_dict, **prot_dict}"
   ]
  },
  {
   "cell_type": "code",
   "execution_count": 121,
   "metadata": {},
   "outputs": [
    {
     "name": "stdout",
     "output_type": "stream",
     "text": [
      "{'gene02983.fa': 'gene', 'gene03837.fa': 'gene', 'gene09274.fa': 'gene', 'gene08434.fa': 'gene', 'gene02274.fa': 'gene', 'gene07262.fa': 'gene', 'gene06653.fa': 'gene', 'gene01635.fa': 'gene', 'gene05107.fa': 'gene', 'gene02939.fa': 'gene', 'gene08263.fa': 'gene', 'gene08825.fa': 'gene', 'gene07225.fa': 'gene', 'protein07748.txt': 'protein', 'protein03625.txt': 'protein'}\n"
     ]
    }
   ],
   "source": [
    "print(dict_both)"
   ]
  },
  {
   "cell_type": "markdown",
   "metadata": {},
   "source": [
    "**This is the official solution**"
   ]
  },
  {
   "cell_type": "code",
   "execution_count": 132,
   "metadata": {},
   "outputs": [
    {
     "name": "stdout",
     "output_type": "stream",
     "text": [
      "hola\n"
     ]
    }
   ],
   "source": [
    "## This trick is imporant\n",
    "a = \"hola1234.txt\"\n",
    "print(a.split(\".\")[0][:-4])"
   ]
  },
  {
   "cell_type": "code",
   "execution_count": 133,
   "metadata": {},
   "outputs": [],
   "source": [
    "## Official solution\n",
    "\n",
    "with open(\"genes.txt\", \"r\") as f:\n",
    "    final_dict = {line.rstrip(\"\\n\"):line.split(\".\")[0][:-5] for line in f}\n",
    "    \n"
   ]
  },
  {
   "cell_type": "code",
   "execution_count": 134,
   "metadata": {},
   "outputs": [
    {
     "name": "stdout",
     "output_type": "stream",
     "text": [
      "{'gene02983.fa': 'gene', 'gene03837.fa': 'gene', 'gene09274.fa': 'gene', 'gene08434.fa': 'gene', 'gene02274.fa': 'gene', 'gene07262.fa': 'gene', 'gene06653.fa': 'gene', 'gene01635.fa': 'gene', 'gene05107.fa': 'gene', 'gene02939.fa': 'gene', 'protein07748.txt': 'protein', 'protein03625.txt': 'protein', 'gene08263.fa': 'gene', 'gene08825.fa': 'gene', 'gene07225.fa': 'gene'}\n"
     ]
    }
   ],
   "source": [
    "print(final_dict)"
   ]
  },
  {
   "cell_type": "code",
   "execution_count": null,
   "metadata": {},
   "outputs": [],
   "source": []
  }
 ],
 "metadata": {
  "kernelspec": {
   "display_name": "Python 3",
   "language": "python",
   "name": "python3"
  },
  "language_info": {
   "codemirror_mode": {
    "name": "ipython",
    "version": 3
   },
   "file_extension": ".py",
   "mimetype": "text/x-python",
   "name": "python",
   "nbconvert_exporter": "python",
   "pygments_lexer": "ipython3",
   "version": "3.8.2"
  }
 },
 "nbformat": 4,
 "nbformat_minor": 4
}
